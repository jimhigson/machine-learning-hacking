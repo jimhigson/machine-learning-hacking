{
 "cells": [
  {
   "cell_type": "code",
   "execution_count": 1,
   "metadata": {},
   "outputs": [],
   "source": [
    "# somewhat similar (but this written mostly before reading that)\n",
    "#https://www.pluralsight.com/guides/deep-learning-model-add"
   ]
  },
  {
   "cell_type": "code",
   "execution_count": null,
   "metadata": {},
   "outputs": [],
   "source": []
  },
  {
   "cell_type": "code",
   "execution_count": 2,
   "metadata": {},
   "outputs": [
    {
     "name": "stderr",
     "output_type": "stream",
     "text": [
      "Using TensorFlow backend.\n"
     ]
    }
   ],
   "source": [
    "import tensorflow as tf\n",
    "# tf.logging.set_verbosity(tf.logging.ERROR)\n",
    "from keras.models import Sequential\n",
    "from keras import optimizers\n",
    "from keras.layers import Dense, Activation, Flatten\n",
    "from keras.optimizers import Adam\n",
    "\n",
    "import numpy as np"
   ]
  },
  {
   "cell_type": "code",
   "execution_count": 3,
   "metadata": {},
   "outputs": [],
   "source": [
    "trainingDataSize = 10000\n",
    "epochs = 20"
   ]
  },
  {
   "cell_type": "code",
   "execution_count": 4,
   "metadata": {},
   "outputs": [],
   "source": [
    "X = np.random.normal( loc=0, scale=100, size=[trainingDataSize,2] )\n"
   ]
  },
  {
   "cell_type": "code",
   "execution_count": 5,
   "metadata": {},
   "outputs": [],
   "source": [
    "Y = X.sum(axis=1)\n",
    "Ynoisy = Y + np.random.normal( scale = 3, size=trainingDataSize )"
   ]
  },
  {
   "cell_type": "code",
   "execution_count": 6,
   "metadata": {},
   "outputs": [
    {
     "data": {
      "text/plain": [
       "array([ 275.82556912,   25.96127559,  131.27764075, ...,    5.41354167,\n",
       "       -108.42504546, -204.62720813])"
      ]
     },
     "execution_count": 6,
     "metadata": {},
     "output_type": "execute_result"
    }
   ],
   "source": [
    "Y"
   ]
  },
  {
   "cell_type": "code",
   "execution_count": 7,
   "metadata": {},
   "outputs": [
    {
     "data": {
      "text/plain": [
       "array([ 272.39872002,   23.98683476,  129.45108557, ...,    9.58329781,\n",
       "       -106.44291217, -201.42198388])"
      ]
     },
     "execution_count": 7,
     "metadata": {},
     "output_type": "execute_result"
    }
   ],
   "source": [
    "Ynoisy"
   ]
  },
  {
   "cell_type": "code",
   "execution_count": 8,
   "metadata": {},
   "outputs": [],
   "source": [
    "model = Sequential([\n",
    "    #Flatten(), # input_shape=(2,)\n",
    "    Dense(units=2, activation='relu'),\n",
    "    Dense(units=20, activation='relu'),\n",
    "\tDense(units=20, activation='relu'),\n",
    "    Dense(units=1)\n",
    "])\n",
    "model.compile(optimizer=Adam(learning_rate=0.001), \n",
    "              loss='mse',\n",
    "              metrics=['mae'])"
   ]
  },
  {
   "cell_type": "code",
   "execution_count": 9,
   "metadata": {},
   "outputs": [
    {
     "data": {
      "image/svg+xml": [
       "<svg height=\"60pt\" viewBox=\"0.00 0.00 482.00 45.00\" width=\"643pt\" xmlns=\"http://www.w3.org/2000/svg\" xmlns:xlink=\"http://www.w3.org/1999/xlink\">\n",
       "<g class=\"graph\" id=\"graph0\" transform=\"scale(1.3333 1.3333) rotate(0) translate(4 41)\">\n",
       "<title>G</title>\n",
       "<polygon fill=\"#ffffff\" points=\"-4,4 -4,-41 478,-41 478,4 -4,4\" stroke=\"transparent\"/>\n",
       "<!-- 140257937740688 -->\n",
       "<g class=\"node\" id=\"node1\">\n",
       "<title>140257937740688</title>\n",
       "<polygon fill=\"none\" points=\"0,-.5 0,-36.5 105,-36.5 105,-.5 0,-.5\" stroke=\"#000000\"/>\n",
       "<text fill=\"#000000\" font-family=\"Times,serif\" font-size=\"14.00\" text-anchor=\"middle\" x=\"52.5\" y=\"-14.8\">dense_1: Dense</text>\n",
       "</g>\n",
       "<!-- 140257999971408 -->\n",
       "<g class=\"node\" id=\"node2\">\n",
       "<title>140257999971408</title>\n",
       "<polygon fill=\"none\" points=\"123,-.5 123,-36.5 228,-36.5 228,-.5 123,-.5\" stroke=\"#000000\"/>\n",
       "<text fill=\"#000000\" font-family=\"Times,serif\" font-size=\"14.00\" text-anchor=\"middle\" x=\"175.5\" y=\"-14.8\">dense_2: Dense</text>\n",
       "</g>\n",
       "<!-- 140257999970768 -->\n",
       "<g class=\"node\" id=\"node3\">\n",
       "<title>140257999970768</title>\n",
       "<polygon fill=\"none\" points=\"246,-.5 246,-36.5 351,-36.5 351,-.5 246,-.5\" stroke=\"#000000\"/>\n",
       "<text fill=\"#000000\" font-family=\"Times,serif\" font-size=\"14.00\" text-anchor=\"middle\" x=\"298.5\" y=\"-14.8\">dense_3: Dense</text>\n",
       "</g>\n",
       "<!-- 140257398338704 -->\n",
       "<g class=\"node\" id=\"node4\">\n",
       "<title>140257398338704</title>\n",
       "<polygon fill=\"none\" points=\"369,-.5 369,-36.5 474,-36.5 474,-.5 369,-.5\" stroke=\"#000000\"/>\n",
       "<text fill=\"#000000\" font-family=\"Times,serif\" font-size=\"14.00\" text-anchor=\"middle\" x=\"421.5\" y=\"-14.8\">dense_4: Dense</text>\n",
       "</g>\n",
       "</g>\n",
       "</svg>"
      ],
      "text/plain": [
       "<IPython.core.display.SVG object>"
      ]
     },
     "execution_count": 9,
     "metadata": {},
     "output_type": "execute_result"
    }
   ],
   "source": [
    "from IPython.display import SVG\n",
    "from keras.utils import model_to_dot\n",
    "\n",
    "SVG(model_to_dot(model).create(prog='dot', format='svg'))"
   ]
  },
  {
   "cell_type": "code",
   "execution_count": null,
   "metadata": {},
   "outputs": [],
   "source": []
  },
  {
   "cell_type": "code",
   "execution_count": 10,
   "metadata": {},
   "outputs": [
    {
     "name": "stdout",
     "output_type": "stream",
     "text": [
      "Epoch 1/20\n",
      "10000/10000 [==============================] - 1s 67us/step - loss: 12403.6721 - mae: 82.9913\n",
      "Epoch 2/20\n",
      "10000/10000 [==============================] - 0s 15us/step - loss: 10274.5054 - mae: 67.8996\n",
      "Epoch 3/20\n",
      "10000/10000 [==============================] - 0s 15us/step - loss: 9634.8834 - mae: 61.7543\n",
      "Epoch 4/20\n",
      "10000/10000 [==============================] - 0s 15us/step - loss: 5291.1649 - mae: 44.2843\n",
      "Epoch 5/20\n",
      "10000/10000 [==============================] - 0s 15us/step - loss: 430.9891 - mae: 11.3969\n",
      "Epoch 6/20\n",
      "10000/10000 [==============================] - 0s 15us/step - loss: 26.6497 - mae: 4.0888\n",
      "Epoch 7/20\n",
      "10000/10000 [==============================] - 0s 15us/step - loss: 23.9844 - mae: 3.8436\n",
      "Epoch 8/20\n",
      "10000/10000 [==============================] - 0s 15us/step - loss: 22.0985 - mae: 3.6961\n",
      "Epoch 9/20\n",
      "10000/10000 [==============================] - 0s 15us/step - loss: 20.4802 - mae: 3.5585\n",
      "Epoch 10/20\n",
      "10000/10000 [==============================] - 0s 15us/step - loss: 18.9979 - mae: 3.4426\n",
      "Epoch 11/20\n",
      "10000/10000 [==============================] - 0s 15us/step - loss: 17.6097 - mae: 3.3196\n",
      "Epoch 12/20\n",
      "10000/10000 [==============================] - 0s 15us/step - loss: 16.3989 - mae: 3.2083\n",
      "Epoch 13/20\n",
      "10000/10000 [==============================] - 0s 15us/step - loss: 15.2478 - mae: 3.0992\n",
      "Epoch 14/20\n",
      "10000/10000 [==============================] - 0s 15us/step - loss: 14.2891 - mae: 3.0032\n",
      "Epoch 15/20\n",
      "10000/10000 [==============================] - 0s 15us/step - loss: 13.3590 - mae: 2.9050\n",
      "Epoch 16/20\n",
      "10000/10000 [==============================] - 0s 15us/step - loss: 12.6067 - mae: 2.8248\n",
      "Epoch 17/20\n",
      "10000/10000 [==============================] - 0s 15us/step - loss: 11.9154 - mae: 2.7442\n",
      "Epoch 18/20\n",
      "10000/10000 [==============================] - 0s 15us/step - loss: 11.3362 - mae: 2.6777\n",
      "Epoch 19/20\n",
      "10000/10000 [==============================] - 0s 15us/step - loss: 10.8481 - mae: 2.6182\n",
      "Epoch 20/20\n",
      "10000/10000 [==============================] - 0s 15us/step - loss: 10.4726 - mae: 2.5702\n"
     ]
    },
    {
     "data": {
      "text/plain": [
       "<keras.callbacks.callbacks.History at 0x7f9018465650>"
      ]
     },
     "execution_count": 10,
     "metadata": {},
     "output_type": "execute_result"
    }
   ],
   "source": [
    "model.fit(X, Ynoisy, epochs=epochs, batch_size=100)\n"
   ]
  },
  {
   "cell_type": "code",
   "execution_count": 11,
   "metadata": {},
   "outputs": [
    {
     "data": {
      "text/plain": [
       "array([[202.1715]], dtype=float32)"
      ]
     },
     "execution_count": 11,
     "metadata": {},
     "output_type": "execute_result"
    }
   ],
   "source": [
    "model.predict(np.array([[101,102]]))"
   ]
  },
  {
   "cell_type": "code",
   "execution_count": 12,
   "metadata": {},
   "outputs": [
    {
     "data": {
      "text/plain": [
       "array([[194.31154]], dtype=float32)"
      ]
     },
     "execution_count": 12,
     "metadata": {},
     "output_type": "execute_result"
    }
   ],
   "source": [
    "model.predict(np.array([[95,100]]))"
   ]
  },
  {
   "cell_type": "code",
   "execution_count": 13,
   "metadata": {},
   "outputs": [
    {
     "data": {
      "text/plain": [
       "array([[5.4628277]], dtype=float32)"
      ]
     },
     "execution_count": 13,
     "metadata": {},
     "output_type": "execute_result"
    }
   ],
   "source": [
    "model.predict(np.array([[1,2]]))"
   ]
  },
  {
   "cell_type": "code",
   "execution_count": 14,
   "metadata": {},
   "outputs": [
    {
     "data": {
      "text/plain": [
       "array([[6.5097523]], dtype=float32)"
      ]
     },
     "execution_count": 14,
     "metadata": {},
     "output_type": "execute_result"
    }
   ],
   "source": [
    "model.predict(np.array([[2,2]]))"
   ]
  },
  {
   "cell_type": "code",
   "execution_count": 15,
   "metadata": {},
   "outputs": [
    {
     "data": {
      "text/plain": [
       "array([[-150.40897]], dtype=float32)"
      ]
     },
     "execution_count": 15,
     "metadata": {},
     "output_type": "execute_result"
    }
   ],
   "source": [
    "model.predict(np.array([[100,-250]]))"
   ]
  },
  {
   "cell_type": "code",
   "execution_count": 16,
   "metadata": {},
   "outputs": [
    {
     "data": {
      "text/plain": [
       "array([[7360.332]], dtype=float32)"
      ]
     },
     "execution_count": 16,
     "metadata": {},
     "output_type": "execute_result"
    }
   ],
   "source": [
    "model.predict(np.array([[10000,-2500]]))"
   ]
  },
  {
   "cell_type": "code",
   "execution_count": null,
   "metadata": {},
   "outputs": [],
   "source": []
  },
  {
   "cell_type": "code",
   "execution_count": null,
   "metadata": {},
   "outputs": [],
   "source": []
  }
 ],
 "metadata": {
  "kernelspec": {
   "display_name": "machine_learning",
   "language": "python",
   "name": "machine_learning"
  },
  "language_info": {
   "codemirror_mode": {
    "name": "ipython",
    "version": 3
   },
   "file_extension": ".py",
   "mimetype": "text/x-python",
   "name": "python",
   "nbconvert_exporter": "python",
   "pygments_lexer": "ipython3",
   "version": "3.7.7"
  }
 },
 "nbformat": 4,
 "nbformat_minor": 2
}
