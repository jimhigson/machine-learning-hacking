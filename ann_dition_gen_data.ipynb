{
 "cells": [
  {
   "cell_type": "code",
   "execution_count": 1,
   "metadata": {},
   "outputs": [],
   "source": [
    "# somewhat similar (but this written mostly before reading that)\n",
    "#https://www.pluralsight.com/guides/deep-learning-model-add"
   ]
  },
  {
   "cell_type": "code",
   "execution_count": 2,
   "metadata": {},
   "outputs": [],
   "source": [
    "!#pip install livelossplot --quiet"
   ]
  },
  {
   "cell_type": "code",
   "execution_count": 3,
   "metadata": {},
   "outputs": [
    {
     "name": "stderr",
     "output_type": "stream",
     "text": [
      "Using TensorFlow backend.\n"
     ]
    }
   ],
   "source": [
    "import tensorflow as tf\n",
    "# tf.logging.set_verbosity(tf.logging.ERROR)\n",
    "from keras.models import Sequential\n",
    "from keras import optimizers\n",
    "from keras.layers import Dense, Activation, Flatten\n",
    "from keras.optimizers import Adam\n",
    "\n",
    "import numpy as np"
   ]
  },
  {
   "cell_type": "code",
   "execution_count": 4,
   "metadata": {},
   "outputs": [],
   "source": [
    "trainingDataSize = 10000\n",
    "epochs = 20"
   ]
  },
  {
   "cell_type": "code",
   "execution_count": 5,
   "metadata": {},
   "outputs": [],
   "source": [
    "X = np.random.normal( loc=0, scale=100, size=[trainingDataSize,2] )\n"
   ]
  },
  {
   "cell_type": "code",
   "execution_count": 6,
   "metadata": {},
   "outputs": [],
   "source": [
    "Y = X.sum(axis=1)\n",
    "Ynoisy = Y + np.random.normal( scale = 3, size=trainingDataSize )"
   ]
  },
  {
   "cell_type": "code",
   "execution_count": 7,
   "metadata": {},
   "outputs": [
    {
     "data": {
      "text/plain": [
       "array([  28.58647381, -120.98473487,   41.1813993 , ...,  136.9005329 ,\n",
       "        -12.61021099, -240.20422191])"
      ]
     },
     "execution_count": 7,
     "metadata": {},
     "output_type": "execute_result"
    }
   ],
   "source": [
    "Y"
   ]
  },
  {
   "cell_type": "code",
   "execution_count": 8,
   "metadata": {},
   "outputs": [
    {
     "data": {
      "text/plain": [
       "array([  28.73450981, -124.74854221,   41.52027542, ...,  136.57435713,\n",
       "         -6.56793794, -239.50898443])"
      ]
     },
     "execution_count": 8,
     "metadata": {},
     "output_type": "execute_result"
    }
   ],
   "source": [
    "Ynoisy"
   ]
  },
  {
   "cell_type": "code",
   "execution_count": 9,
   "metadata": {},
   "outputs": [],
   "source": [
    "model = Sequential([\n",
    "    #Flatten(), # input_shape=(2,)\n",
    "    Dense(units=2, activation='relu'),\n",
    "    Dense(units=20, activation='relu'),\n",
    "\tDense(units=20, activation='relu'),\n",
    "    Dense(units=1)\n",
    "])\n",
    "model.compile(optimizer=Adam(learning_rate=0.001), \n",
    "              loss='mse',\n",
    "              metrics=['mae'])"
   ]
  },
  {
   "cell_type": "code",
   "execution_count": 10,
   "metadata": {},
   "outputs": [
    {
     "data": {
      "image/svg+xml": [
       "<svg height=\"60pt\" viewBox=\"0.00 0.00 482.00 45.00\" width=\"643pt\" xmlns=\"http://www.w3.org/2000/svg\" xmlns:xlink=\"http://www.w3.org/1999/xlink\">\n",
       "<g class=\"graph\" id=\"graph0\" transform=\"scale(1.3333 1.3333) rotate(0) translate(4 41)\">\n",
       "<title>G</title>\n",
       "<polygon fill=\"#ffffff\" points=\"-4,4 -4,-41 478,-41 478,4 -4,4\" stroke=\"transparent\"/>\n",
       "<!-- 140300076554768 -->\n",
       "<g class=\"node\" id=\"node1\">\n",
       "<title>140300076554768</title>\n",
       "<polygon fill=\"none\" points=\"0,-.5 0,-36.5 105,-36.5 105,-.5 0,-.5\" stroke=\"#000000\"/>\n",
       "<text fill=\"#000000\" font-family=\"Times,serif\" font-size=\"14.00\" text-anchor=\"middle\" x=\"52.5\" y=\"-14.8\">dense_1: Dense</text>\n",
       "</g>\n",
       "<!-- 140299554593488 -->\n",
       "<g class=\"node\" id=\"node2\">\n",
       "<title>140299554593488</title>\n",
       "<polygon fill=\"none\" points=\"123,-.5 123,-36.5 228,-36.5 228,-.5 123,-.5\" stroke=\"#000000\"/>\n",
       "<text fill=\"#000000\" font-family=\"Times,serif\" font-size=\"14.00\" text-anchor=\"middle\" x=\"175.5\" y=\"-14.8\">dense_2: Dense</text>\n",
       "</g>\n",
       "<!-- 140299554594448 -->\n",
       "<g class=\"node\" id=\"node3\">\n",
       "<title>140299554594448</title>\n",
       "<polygon fill=\"none\" points=\"246,-.5 246,-36.5 351,-36.5 351,-.5 246,-.5\" stroke=\"#000000\"/>\n",
       "<text fill=\"#000000\" font-family=\"Times,serif\" font-size=\"14.00\" text-anchor=\"middle\" x=\"298.5\" y=\"-14.8\">dense_3: Dense</text>\n",
       "</g>\n",
       "<!-- 140299554542544 -->\n",
       "<g class=\"node\" id=\"node4\">\n",
       "<title>140299554542544</title>\n",
       "<polygon fill=\"none\" points=\"369,-.5 369,-36.5 474,-36.5 474,-.5 369,-.5\" stroke=\"#000000\"/>\n",
       "<text fill=\"#000000\" font-family=\"Times,serif\" font-size=\"14.00\" text-anchor=\"middle\" x=\"421.5\" y=\"-14.8\">dense_4: Dense</text>\n",
       "</g>\n",
       "</g>\n",
       "</svg>"
      ],
      "text/plain": [
       "<IPython.core.display.SVG object>"
      ]
     },
     "execution_count": 10,
     "metadata": {},
     "output_type": "execute_result"
    }
   ],
   "source": [
    "from IPython.display import SVG\n",
    "from keras.utils import model_to_dot\n",
    "\n",
    "SVG(model_to_dot(model).create(prog='dot', format='svg'))"
   ]
  },
  {
   "cell_type": "code",
   "execution_count": null,
   "metadata": {},
   "outputs": [],
   "source": []
  },
  {
   "cell_type": "code",
   "execution_count": 11,
   "metadata": {},
   "outputs": [
    {
     "name": "stdout",
     "output_type": "stream",
     "text": [
      "Epoch 1/20\n",
      "10000/10000 [==============================] - 1s 69us/step - loss: 15825.3109 - mae: 98.1243\n",
      "Epoch 2/20\n",
      "10000/10000 [==============================] - 0s 14us/step - loss: 12342.1399 - mae: 82.0234\n",
      "Epoch 3/20\n",
      "10000/10000 [==============================] - 0s 15us/step - loss: 11010.6376 - mae: 71.4804\n",
      "Epoch 4/20\n",
      "10000/10000 [==============================] - 0s 15us/step - loss: 10535.7111 - mae: 68.1877\n",
      "Epoch 5/20\n",
      "10000/10000 [==============================] - 0s 15us/step - loss: 10110.1001 - mae: 64.9531\n",
      "Epoch 6/20\n",
      "10000/10000 [==============================] - 0s 15us/step - loss: 9634.5698 - mae: 61.7714\n",
      "Epoch 7/20\n",
      "10000/10000 [==============================] - 0s 14us/step - loss: 9044.8471 - mae: 58.1397\n",
      "Epoch 8/20\n",
      "10000/10000 [==============================] - 0s 15us/step - loss: 8278.2596 - mae: 53.8101\n",
      "Epoch 9/20\n",
      "10000/10000 [==============================] - 0s 14us/step - loss: 7327.6863 - mae: 48.9523\n",
      "Epoch 10/20\n",
      "10000/10000 [==============================] - 0s 15us/step - loss: 6300.5583 - mae: 44.1030\n",
      "Epoch 11/20\n",
      "10000/10000 [==============================] - 0s 15us/step - loss: 5315.4955 - mae: 40.3212\n",
      "Epoch 12/20\n",
      "10000/10000 [==============================] - 0s 14us/step - loss: 4492.4310 - mae: 37.3959\n",
      "Epoch 13/20\n",
      "10000/10000 [==============================] - 0s 14us/step - loss: 3888.7790 - mae: 35.4737\n",
      "Epoch 14/20\n",
      "10000/10000 [==============================] - 0s 15us/step - loss: 3503.8958 - mae: 34.4412\n",
      "Epoch 15/20\n",
      "10000/10000 [==============================] - 0s 14us/step - loss: 3270.5148 - mae: 33.7638\n",
      "Epoch 16/20\n",
      "10000/10000 [==============================] - 0s 14us/step - loss: 3116.0034 - mae: 33.4606\n",
      "Epoch 17/20\n",
      "10000/10000 [==============================] - 0s 14us/step - loss: 3039.2638 - mae: 33.2577\n",
      "Epoch 18/20\n",
      "10000/10000 [==============================] - 0s 14us/step - loss: 2982.2203 - mae: 32.9070\n",
      "Epoch 19/20\n",
      "10000/10000 [==============================] - 0s 15us/step - loss: 2939.7793 - mae: 32.7957\n",
      "Epoch 20/20\n",
      "10000/10000 [==============================] - 0s 15us/step - loss: 2907.9623 - mae: 32.6788\n"
     ]
    },
    {
     "data": {
      "text/plain": [
       "<keras.callbacks.callbacks.History at 0x7f9a29b17910>"
      ]
     },
     "execution_count": 11,
     "metadata": {},
     "output_type": "execute_result"
    }
   ],
   "source": [
    "model.fit(X, Ynoisy, epochs=epochs, batch_size=100)\n"
   ]
  },
  {
   "cell_type": "code",
   "execution_count": 12,
   "metadata": {},
   "outputs": [
    {
     "data": {
      "text/plain": [
       "array([[203.54262]], dtype=float32)"
      ]
     },
     "execution_count": 12,
     "metadata": {},
     "output_type": "execute_result"
    }
   ],
   "source": [
    "model.predict(np.array([[101,102]]))"
   ]
  },
  {
   "cell_type": "code",
   "execution_count": 13,
   "metadata": {},
   "outputs": [
    {
     "data": {
      "text/plain": [
       "array([[195.24306]], dtype=float32)"
      ]
     },
     "execution_count": 13,
     "metadata": {},
     "output_type": "execute_result"
    }
   ],
   "source": [
    "model.predict(np.array([[95,100]]))"
   ]
  },
  {
   "cell_type": "code",
   "execution_count": 14,
   "metadata": {},
   "outputs": [
    {
     "data": {
      "text/plain": [
       "array([[-17.553835]], dtype=float32)"
      ]
     },
     "execution_count": 14,
     "metadata": {},
     "output_type": "execute_result"
    }
   ],
   "source": [
    "model.predict(np.array([[1,2]]))"
   ]
  },
  {
   "cell_type": "code",
   "execution_count": 15,
   "metadata": {},
   "outputs": [
    {
     "data": {
      "text/plain": [
       "array([[-10.417396]], dtype=float32)"
      ]
     },
     "execution_count": 15,
     "metadata": {},
     "output_type": "execute_result"
    }
   ],
   "source": [
    "model.predict(np.array([[2,2]]))"
   ]
  },
  {
   "cell_type": "code",
   "execution_count": 16,
   "metadata": {},
   "outputs": [
    {
     "data": {
      "text/plain": [
       "array([[-135.61598]], dtype=float32)"
      ]
     },
     "execution_count": 16,
     "metadata": {},
     "output_type": "execute_result"
    }
   ],
   "source": [
    "model.predict(np.array([[100,-250]]))"
   ]
  },
  {
   "cell_type": "code",
   "execution_count": 17,
   "metadata": {},
   "outputs": [
    {
     "data": {
      "text/plain": [
       "array([[7550.0537]], dtype=float32)"
      ]
     },
     "execution_count": 17,
     "metadata": {},
     "output_type": "execute_result"
    }
   ],
   "source": [
    "model.predict(np.array([[10000,-2500]]))"
   ]
  },
  {
   "cell_type": "code",
   "execution_count": null,
   "metadata": {},
   "outputs": [],
   "source": []
  },
  {
   "cell_type": "code",
   "execution_count": null,
   "metadata": {},
   "outputs": [],
   "source": []
  }
 ],
 "metadata": {
  "kernelspec": {
   "display_name": "machine_learning",
   "language": "python",
   "name": "machine_learning"
  },
  "language_info": {
   "codemirror_mode": {
    "name": "ipython",
    "version": 3
   },
   "file_extension": ".py",
   "mimetype": "text/x-python",
   "name": "python",
   "nbconvert_exporter": "python",
   "pygments_lexer": "ipython3",
   "version": "3.7.7"
  }
 },
 "nbformat": 4,
 "nbformat_minor": 2
}
