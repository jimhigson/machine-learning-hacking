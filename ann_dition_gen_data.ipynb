{
 "cells": [
  {
   "cell_type": "code",
   "execution_count": 1,
   "metadata": {},
   "outputs": [],
   "source": [
    "# somewhat similar (but this written mostly before reading that)\n",
    "#https://www.pluralsight.com/guides/deep-learning-model-add"
   ]
  },
  {
   "cell_type": "code",
   "execution_count": 2,
   "metadata": {},
   "outputs": [
    {
     "name": "stderr",
     "output_type": "stream",
     "text": [
      "Using TensorFlow backend.\n"
     ]
    }
   ],
   "source": [
    "import tensorflow as tf\n",
    "# tf.logging.set_verbosity(tf.logging.ERROR)\n",
    "from keras.models import Sequential\n",
    "from keras import optimizers\n",
    "from keras.layers import Dense, Activation, Flatten\n",
    "\n",
    "import numpy as np"
   ]
  },
  {
   "cell_type": "code",
   "execution_count": 3,
   "metadata": {},
   "outputs": [],
   "source": [
    "trainingDataSize = 10000\n",
    "epochs = 50"
   ]
  },
  {
   "cell_type": "code",
   "execution_count": 4,
   "metadata": {},
   "outputs": [],
   "source": [
    "X = np.random.normal( loc=0, scale=100, size=[trainingDataSize,2] )\n"
   ]
  },
  {
   "cell_type": "code",
   "execution_count": 5,
   "metadata": {},
   "outputs": [],
   "source": [
    "Y = X.sum(axis=1)"
   ]
  },
  {
   "cell_type": "code",
   "execution_count": null,
   "metadata": {},
   "outputs": [],
   "source": []
  },
  {
   "cell_type": "code",
   "execution_count": 6,
   "metadata": {},
   "outputs": [],
   "source": [
    "model = Sequential([\n",
    "    #Flatten(), # input_shape=(2,)\n",
    "    Dense(units=2, activation='relu'),\n",
    "    Dense(units=20, activation='relu'),\n",
    "\tDense(units=20, activation='relu'),\n",
    "    Dense(units=1)\n",
    "])\n",
    "model.compile(optimizer='adam', \n",
    "              loss='mse',\n",
    "              metrics=['mae'])"
   ]
  },
  {
   "cell_type": "code",
   "execution_count": 7,
   "metadata": {},
   "outputs": [
    {
     "data": {
      "image/svg+xml": [
       "<svg height=\"60pt\" viewBox=\"0.00 0.00 482.00 45.00\" width=\"643pt\" xmlns=\"http://www.w3.org/2000/svg\" xmlns:xlink=\"http://www.w3.org/1999/xlink\">\n",
       "<g class=\"graph\" id=\"graph0\" transform=\"scale(1.3333 1.3333) rotate(0) translate(4 41)\">\n",
       "<title>G</title>\n",
       "<polygon fill=\"#ffffff\" points=\"-4,4 -4,-41 478,-41 478,4 -4,4\" stroke=\"transparent\"/>\n",
       "<!-- 140703688089488 -->\n",
       "<g class=\"node\" id=\"node1\">\n",
       "<title>140703688089488</title>\n",
       "<polygon fill=\"none\" points=\"0,-.5 0,-36.5 105,-36.5 105,-.5 0,-.5\" stroke=\"#000000\"/>\n",
       "<text fill=\"#000000\" font-family=\"Times,serif\" font-size=\"14.00\" text-anchor=\"middle\" x=\"52.5\" y=\"-14.8\">dense_1: Dense</text>\n",
       "</g>\n",
       "<!-- 140703949939600 -->\n",
       "<g class=\"node\" id=\"node2\">\n",
       "<title>140703949939600</title>\n",
       "<polygon fill=\"none\" points=\"123,-.5 123,-36.5 228,-36.5 228,-.5 123,-.5\" stroke=\"#000000\"/>\n",
       "<text fill=\"#000000\" font-family=\"Times,serif\" font-size=\"14.00\" text-anchor=\"middle\" x=\"175.5\" y=\"-14.8\">dense_2: Dense</text>\n",
       "</g>\n",
       "<!-- 140704742795984 -->\n",
       "<g class=\"node\" id=\"node3\">\n",
       "<title>140704742795984</title>\n",
       "<polygon fill=\"none\" points=\"246,-.5 246,-36.5 351,-36.5 351,-.5 246,-.5\" stroke=\"#000000\"/>\n",
       "<text fill=\"#000000\" font-family=\"Times,serif\" font-size=\"14.00\" text-anchor=\"middle\" x=\"298.5\" y=\"-14.8\">dense_3: Dense</text>\n",
       "</g>\n",
       "<!-- 140703949790416 -->\n",
       "<g class=\"node\" id=\"node4\">\n",
       "<title>140703949790416</title>\n",
       "<polygon fill=\"none\" points=\"369,-.5 369,-36.5 474,-36.5 474,-.5 369,-.5\" stroke=\"#000000\"/>\n",
       "<text fill=\"#000000\" font-family=\"Times,serif\" font-size=\"14.00\" text-anchor=\"middle\" x=\"421.5\" y=\"-14.8\">dense_4: Dense</text>\n",
       "</g>\n",
       "</g>\n",
       "</svg>"
      ],
      "text/plain": [
       "<IPython.core.display.SVG object>"
      ]
     },
     "execution_count": 7,
     "metadata": {},
     "output_type": "execute_result"
    }
   ],
   "source": [
    "from IPython.display import SVG\n",
    "from keras.utils import model_to_dot\n",
    "\n",
    "SVG(model_to_dot(model).create(prog='dot', format='svg'))"
   ]
  },
  {
   "cell_type": "code",
   "execution_count": 8,
   "metadata": {},
   "outputs": [
    {
     "name": "stdout",
     "output_type": "stream",
     "text": [
      "Epoch 1/50\n",
      "10000/10000 [==============================] - 2s 196us/step - loss: 11730.8425 - mae: 73.0238\n",
      "Epoch 2/50\n",
      "10000/10000 [==============================] - 1s 141us/step - loss: 6644.9660 - mae: 47.4054\n",
      "Epoch 3/50\n",
      "10000/10000 [==============================] - 1s 140us/step - loss: 3546.6453 - mae: 35.7928\n",
      "Epoch 4/50\n",
      "10000/10000 [==============================] - 1s 141us/step - loss: 2987.9999 - mae: 33.5702\n",
      "Epoch 5/50\n",
      "10000/10000 [==============================] - 1s 141us/step - loss: 2777.2856 - mae: 31.3607\n",
      "Epoch 6/50\n",
      "10000/10000 [==============================] - 1s 141us/step - loss: 2656.7773 - mae: 30.5557\n",
      "Epoch 7/50\n",
      "10000/10000 [==============================] - 1s 141us/step - loss: 2570.2544 - mae: 29.8107\n",
      "Epoch 8/50\n",
      "10000/10000 [==============================] - 1s 141us/step - loss: 2308.1284 - mae: 28.9354\n",
      "Epoch 9/50\n",
      "10000/10000 [==============================] - 1s 141us/step - loss: 1332.3522 - mae: 24.6495\n",
      "Epoch 10/50\n",
      "10000/10000 [==============================] - 1s 142us/step - loss: 465.2684 - mae: 12.7179\n",
      "Epoch 11/50\n",
      "10000/10000 [==============================] - 1s 143us/step - loss: 188.8448 - mae: 6.8092\n",
      "Epoch 12/50\n",
      "10000/10000 [==============================] - 1s 144us/step - loss: 108.6179 - mae: 5.0702\n",
      "Epoch 13/50\n",
      "10000/10000 [==============================] - 1s 143us/step - loss: 67.1195 - mae: 3.9479\n",
      "Epoch 14/50\n",
      "10000/10000 [==============================] - 1s 143us/step - loss: 42.4349 - mae: 3.1171\n",
      "Epoch 15/50\n",
      "10000/10000 [==============================] - 1s 142us/step - loss: 28.1307 - mae: 2.5498\n",
      "Epoch 16/50\n",
      "10000/10000 [==============================] - 1s 143us/step - loss: 19.4402 - mae: 2.2146\n",
      "Epoch 17/50\n",
      "10000/10000 [==============================] - 1s 142us/step - loss: 19.7875 - mae: 2.1150\n",
      "Epoch 18/50\n",
      "10000/10000 [==============================] - 1s 140us/step - loss: 12.9975 - mae: 1.8120\n",
      "Epoch 19/50\n",
      "10000/10000 [==============================] - 1s 139us/step - loss: 17.4589 - mae: 2.2992\n",
      "Epoch 20/50\n",
      "10000/10000 [==============================] - 1s 140us/step - loss: 17.5815 - mae: 2.1041\n",
      "Epoch 21/50\n",
      "10000/10000 [==============================] - 1s 140us/step - loss: 10.4585 - mae: 1.5036\n",
      "Epoch 22/50\n",
      "10000/10000 [==============================] - 1s 140us/step - loss: 14.3760 - mae: 1.9157\n",
      "Epoch 23/50\n",
      "10000/10000 [==============================] - 1s 139us/step - loss: 13.4361 - mae: 1.8997\n",
      "Epoch 24/50\n",
      "10000/10000 [==============================] - 1s 140us/step - loss: 7.3589 - mae: 1.4096\n",
      "Epoch 25/50\n",
      "10000/10000 [==============================] - 1s 139us/step - loss: 10.9857 - mae: 1.9581\n",
      "Epoch 26/50\n",
      "10000/10000 [==============================] - 1s 139us/step - loss: 17.0187 - mae: 2.2739\n",
      "Epoch 27/50\n",
      "10000/10000 [==============================] - 1s 139us/step - loss: 14.9248 - mae: 2.0426\n",
      "Epoch 28/50\n",
      "10000/10000 [==============================] - 1s 139us/step - loss: 11.1718 - mae: 1.8691\n",
      "Epoch 29/50\n",
      "10000/10000 [==============================] - 1s 140us/step - loss: 11.9017 - mae: 2.0260\n",
      "Epoch 30/50\n",
      "10000/10000 [==============================] - 1s 139us/step - loss: 9.5045 - mae: 1.6871\n",
      "Epoch 31/50\n",
      "10000/10000 [==============================] - 1s 140us/step - loss: 7.7966 - mae: 1.6287\n",
      "Epoch 32/50\n",
      "10000/10000 [==============================] - 1s 139us/step - loss: 13.1400 - mae: 1.6425\n",
      "Epoch 33/50\n",
      "10000/10000 [==============================] - 1s 139us/step - loss: 8.5935 - mae: 1.5990\n",
      "Epoch 34/50\n",
      "10000/10000 [==============================] - 1s 140us/step - loss: 13.0442 - mae: 1.9110\n",
      "Epoch 35/50\n",
      "10000/10000 [==============================] - 1s 140us/step - loss: 10.1132 - mae: 1.7361\n",
      "Epoch 36/50\n",
      "10000/10000 [==============================] - 1s 139us/step - loss: 7.5595 - mae: 1.4230\n",
      "Epoch 37/50\n",
      "10000/10000 [==============================] - 1s 139us/step - loss: 16.2889 - mae: 2.0713\n",
      "Epoch 38/50\n",
      "10000/10000 [==============================] - 1s 139us/step - loss: 17.2929 - mae: 2.2694\n",
      "Epoch 39/50\n",
      "10000/10000 [==============================] - 1s 139us/step - loss: 4.4613 - mae: 1.1235\n",
      "Epoch 40/50\n",
      "10000/10000 [==============================] - 1s 139us/step - loss: 16.1152 - mae: 2.0384\n",
      "Epoch 41/50\n",
      "10000/10000 [==============================] - 1s 139us/step - loss: 11.6147 - mae: 1.5019\n",
      "Epoch 42/50\n",
      "10000/10000 [==============================] - 1s 140us/step - loss: 7.9216 - mae: 1.3644\n",
      "Epoch 43/50\n",
      "10000/10000 [==============================] - 1s 141us/step - loss: 27.3752 - mae: 1.8599\n",
      "Epoch 44/50\n",
      "10000/10000 [==============================] - 1s 140us/step - loss: 5.7337 - mae: 1.2646\n",
      "Epoch 45/50\n",
      "10000/10000 [==============================] - 1s 140us/step - loss: 18.8680 - mae: 1.8507\n",
      "Epoch 46/50\n",
      "10000/10000 [==============================] - 1s 140us/step - loss: 6.2957 - mae: 1.3327\n",
      "Epoch 47/50\n",
      "10000/10000 [==============================] - 1s 140us/step - loss: 15.5416 - mae: 2.0426\n",
      "Epoch 48/50\n",
      "10000/10000 [==============================] - 1s 140us/step - loss: 6.8799 - mae: 1.4924\n",
      "Epoch 49/50\n",
      "10000/10000 [==============================] - 1s 140us/step - loss: 14.5115 - mae: 1.7592\n",
      "Epoch 50/50\n",
      "10000/10000 [==============================] - 1s 140us/step - loss: 4.6728 - mae: 1.1523\n"
     ]
    },
    {
     "data": {
      "text/plain": [
       "<keras.callbacks.callbacks.History at 0x7ff821696810>"
      ]
     },
     "execution_count": 8,
     "metadata": {},
     "output_type": "execute_result"
    }
   ],
   "source": [
    "model.fit(X, Y, epochs=epochs, batch_size=10)\n"
   ]
  },
  {
   "cell_type": "code",
   "execution_count": 9,
   "metadata": {},
   "outputs": [
    {
     "data": {
      "text/plain": [
       "array([[206.7966]], dtype=float32)"
      ]
     },
     "execution_count": 9,
     "metadata": {},
     "output_type": "execute_result"
    }
   ],
   "source": [
    "model.predict(np.array([[101,102]]))"
   ]
  },
  {
   "cell_type": "code",
   "execution_count": 10,
   "metadata": {},
   "outputs": [
    {
     "data": {
      "text/plain": [
       "array([[198.74034]], dtype=float32)"
      ]
     },
     "execution_count": 10,
     "metadata": {},
     "output_type": "execute_result"
    }
   ],
   "source": [
    "model.predict(np.array([[95,100]]))"
   ]
  },
  {
   "cell_type": "code",
   "execution_count": 11,
   "metadata": {},
   "outputs": [
    {
     "data": {
      "text/plain": [
       "array([[5.472062]], dtype=float32)"
      ]
     },
     "execution_count": 11,
     "metadata": {},
     "output_type": "execute_result"
    }
   ],
   "source": [
    "model.predict(np.array([[1,2]]))"
   ]
  },
  {
   "cell_type": "code",
   "execution_count": 12,
   "metadata": {},
   "outputs": [
    {
     "data": {
      "text/plain": [
       "array([[6.7202444]], dtype=float32)"
      ]
     },
     "execution_count": 12,
     "metadata": {},
     "output_type": "execute_result"
    }
   ],
   "source": [
    "model.predict(np.array([[2,2]]))"
   ]
  },
  {
   "cell_type": "code",
   "execution_count": 13,
   "metadata": {},
   "outputs": [
    {
     "data": {
      "text/plain": [
       "array([[-148.72264]], dtype=float32)"
      ]
     },
     "execution_count": 13,
     "metadata": {},
     "output_type": "execute_result"
    }
   ],
   "source": [
    "model.predict(np.array([[100,-250]]))"
   ]
  },
  {
   "cell_type": "code",
   "execution_count": null,
   "metadata": {},
   "outputs": [],
   "source": []
  },
  {
   "cell_type": "code",
   "execution_count": null,
   "metadata": {},
   "outputs": [],
   "source": []
  },
  {
   "cell_type": "code",
   "execution_count": null,
   "metadata": {},
   "outputs": [],
   "source": []
  }
 ],
 "metadata": {
  "kernelspec": {
   "display_name": "machine_learning",
   "language": "python",
   "name": "machine_learning"
  },
  "language_info": {
   "codemirror_mode": {
    "name": "ipython",
    "version": 3
   },
   "file_extension": ".py",
   "mimetype": "text/x-python",
   "name": "python",
   "nbconvert_exporter": "python",
   "pygments_lexer": "ipython3",
   "version": "3.7.7"
  }
 },
 "nbformat": 4,
 "nbformat_minor": 2
}
