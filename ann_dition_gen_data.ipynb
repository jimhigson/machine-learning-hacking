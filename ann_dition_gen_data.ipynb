{
 "cells": [
  {
   "cell_type": "code",
   "execution_count": 1,
   "metadata": {},
   "outputs": [],
   "source": [
    "# somewhat similar (but this written mostly before reading that)\n",
    "#https://www.pluralsight.com/guides/deep-learning-model-add"
   ]
  },
  {
   "cell_type": "code",
   "execution_count": 2,
   "metadata": {},
   "outputs": [
    {
     "name": "stderr",
     "output_type": "stream",
     "text": [
      "Using TensorFlow backend.\n"
     ]
    }
   ],
   "source": [
    "import tensorflow as tf\n",
    "# tf.logging.set_verbosity(tf.logging.ERROR)\n",
    "from keras.models import Sequential\n",
    "from keras import optimizers\n",
    "from keras.layers import Dense, Activation, Flatten\n",
    "from keras.optimizers import Adam\n",
    "\n",
    "import numpy as np"
   ]
  },
  {
   "cell_type": "code",
   "execution_count": 3,
   "metadata": {},
   "outputs": [],
   "source": [
    "trainingDataSize = 10000\n",
    "epochs = 20"
   ]
  },
  {
   "cell_type": "code",
   "execution_count": 4,
   "metadata": {},
   "outputs": [],
   "source": [
    "X = np.random.normal( loc=0, scale=100, size=[trainingDataSize,2] )\n"
   ]
  },
  {
   "cell_type": "code",
   "execution_count": 30,
   "metadata": {},
   "outputs": [],
   "source": [
    "Y = X.sum(axis=1)"
   ]
  },
  {
   "cell_type": "code",
   "execution_count": 6,
   "metadata": {},
   "outputs": [],
   "source": [
    "model = Sequential([\n",
    "    #Flatten(), # input_shape=(2,)\n",
    "    Dense(units=2, activation='relu'),\n",
    "    Dense(units=20, activation='relu'),\n",
    "\tDense(units=20, activation='relu'),\n",
    "    Dense(units=1)\n",
    "])\n",
    "model.compile(optimizer=Adam(learning_rate=0.001), \n",
    "              loss='mse',\n",
    "              metrics=['mae'])"
   ]
  },
  {
   "cell_type": "code",
   "execution_count": 7,
   "metadata": {},
   "outputs": [
    {
     "data": {
      "image/svg+xml": [
       "<svg height=\"60pt\" viewBox=\"0.00 0.00 482.00 45.00\" width=\"643pt\" xmlns=\"http://www.w3.org/2000/svg\" xmlns:xlink=\"http://www.w3.org/1999/xlink\">\n",
       "<g class=\"graph\" id=\"graph0\" transform=\"scale(1.3333 1.3333) rotate(0) translate(4 41)\">\n",
       "<title>G</title>\n",
       "<polygon fill=\"#ffffff\" points=\"-4,4 -4,-41 478,-41 478,4 -4,4\" stroke=\"transparent\"/>\n",
       "<!-- 140469995053584 -->\n",
       "<g class=\"node\" id=\"node1\">\n",
       "<title>140469995053584</title>\n",
       "<polygon fill=\"none\" points=\"0,-.5 0,-36.5 105,-36.5 105,-.5 0,-.5\" stroke=\"#000000\"/>\n",
       "<text fill=\"#000000\" font-family=\"Times,serif\" font-size=\"14.00\" text-anchor=\"middle\" x=\"52.5\" y=\"-14.8\">dense_1: Dense</text>\n",
       "</g>\n",
       "<!-- 140470400082960 -->\n",
       "<g class=\"node\" id=\"node2\">\n",
       "<title>140470400082960</title>\n",
       "<polygon fill=\"none\" points=\"123,-.5 123,-36.5 228,-36.5 228,-.5 123,-.5\" stroke=\"#000000\"/>\n",
       "<text fill=\"#000000\" font-family=\"Times,serif\" font-size=\"14.00\" text-anchor=\"middle\" x=\"175.5\" y=\"-14.8\">dense_2: Dense</text>\n",
       "</g>\n",
       "<!-- 140470400082128 -->\n",
       "<g class=\"node\" id=\"node3\">\n",
       "<title>140470400082128</title>\n",
       "<polygon fill=\"none\" points=\"246,-.5 246,-36.5 351,-36.5 351,-.5 246,-.5\" stroke=\"#000000\"/>\n",
       "<text fill=\"#000000\" font-family=\"Times,serif\" font-size=\"14.00\" text-anchor=\"middle\" x=\"298.5\" y=\"-14.8\">dense_3: Dense</text>\n",
       "</g>\n",
       "<!-- 140470399933520 -->\n",
       "<g class=\"node\" id=\"node4\">\n",
       "<title>140470399933520</title>\n",
       "<polygon fill=\"none\" points=\"369,-.5 369,-36.5 474,-36.5 474,-.5 369,-.5\" stroke=\"#000000\"/>\n",
       "<text fill=\"#000000\" font-family=\"Times,serif\" font-size=\"14.00\" text-anchor=\"middle\" x=\"421.5\" y=\"-14.8\">dense_4: Dense</text>\n",
       "</g>\n",
       "</g>\n",
       "</svg>"
      ],
      "text/plain": [
       "<IPython.core.display.SVG object>"
      ]
     },
     "execution_count": 7,
     "metadata": {},
     "output_type": "execute_result"
    }
   ],
   "source": [
    "from IPython.display import SVG\n",
    "from keras.utils import model_to_dot\n",
    "\n",
    "SVG(model_to_dot(model).create(prog='dot', format='svg'))"
   ]
  },
  {
   "cell_type": "code",
   "execution_count": 20,
   "metadata": {},
   "outputs": [
    {
     "name": "stdout",
     "output_type": "stream",
     "text": [
      "Epoch 1/20\n",
      "10000/10000 [==============================] - 0s 16us/step - loss: 0.0015 - mae: 0.0158\n",
      "Epoch 2/20\n",
      "10000/10000 [==============================] - 0s 15us/step - loss: 1.1878e-06 - mae: 4.7127e-04\n",
      "Epoch 3/20\n",
      "10000/10000 [==============================] - 0s 15us/step - loss: 7.5956e-07 - mae: 2.7555e-04\n",
      "Epoch 4/20\n",
      "10000/10000 [==============================] - 0s 15us/step - loss: 7.4565e-07 - mae: 2.8358e-04\n",
      "Epoch 5/20\n",
      "10000/10000 [==============================] - 0s 15us/step - loss: 6.6351e-07 - mae: 2.6692e-04\n",
      "Epoch 6/20\n",
      "10000/10000 [==============================] - 0s 15us/step - loss: 4.1651e-06 - mae: 9.5243e-04\n",
      "Epoch 7/20\n",
      "10000/10000 [==============================] - 0s 16us/step - loss: 1.4397e-06 - mae: 6.0291e-04\n",
      "Epoch 8/20\n",
      "10000/10000 [==============================] - 0s 15us/step - loss: 6.0510e-06 - mae: 0.0011\n",
      "Epoch 9/20\n",
      "10000/10000 [==============================] - 0s 16us/step - loss: 0.0033 - mae: 0.0255\n",
      "Epoch 10/20\n",
      "10000/10000 [==============================] - 0s 15us/step - loss: 0.0336 - mae: 0.0820\n",
      "Epoch 11/20\n",
      "10000/10000 [==============================] - 0s 15us/step - loss: 6.1698e-04 - mae: 0.0110\n",
      "Epoch 12/20\n",
      "10000/10000 [==============================] - 0s 15us/step - loss: 1.4492e-04 - mae: 0.0056\n",
      "Epoch 13/20\n",
      "10000/10000 [==============================] - 0s 15us/step - loss: 5.2219e-05 - mae: 0.0031\n",
      "Epoch 14/20\n",
      "10000/10000 [==============================] - 0s 15us/step - loss: 1.4726e-06 - mae: 6.9607e-04\n",
      "Epoch 15/20\n",
      "10000/10000 [==============================] - 0s 15us/step - loss: 0.0454 - mae: 0.0858\n",
      "Epoch 16/20\n",
      "10000/10000 [==============================] - 0s 15us/step - loss: 0.0600 - mae: 0.0967\n",
      "Epoch 17/20\n",
      "10000/10000 [==============================] - 0s 15us/step - loss: 4.9900e-04 - mae: 0.0077\n",
      "Epoch 18/20\n",
      "10000/10000 [==============================] - 0s 15us/step - loss: 3.1497e-06 - mae: 6.0016e-04\n",
      "Epoch 19/20\n",
      "10000/10000 [==============================] - 0s 15us/step - loss: 4.1539e-07 - mae: 2.0214e-04\n",
      "Epoch 20/20\n",
      "10000/10000 [==============================] - 0s 16us/step - loss: 4.4336e-07 - mae: 2.8401e-04\n"
     ]
    },
    {
     "data": {
      "text/plain": [
       "<keras.callbacks.callbacks.History at 0x7fc1f88b9b50>"
      ]
     },
     "execution_count": 20,
     "metadata": {},
     "output_type": "execute_result"
    }
   ],
   "source": [
    "model.fit(X, Y, epochs=epochs, batch_size=100)\n"
   ]
  },
  {
   "cell_type": "code",
   "execution_count": 21,
   "metadata": {},
   "outputs": [
    {
     "data": {
      "text/plain": [
       "array([[203.00032]], dtype=float32)"
      ]
     },
     "execution_count": 21,
     "metadata": {},
     "output_type": "execute_result"
    }
   ],
   "source": [
    "model.predict(np.array([[101,102]]))"
   ]
  },
  {
   "cell_type": "code",
   "execution_count": 22,
   "metadata": {},
   "outputs": [
    {
     "data": {
      "text/plain": [
       "array([[195.0003]], dtype=float32)"
      ]
     },
     "execution_count": 22,
     "metadata": {},
     "output_type": "execute_result"
    }
   ],
   "source": [
    "model.predict(np.array([[95,100]]))"
   ]
  },
  {
   "cell_type": "code",
   "execution_count": 23,
   "metadata": {},
   "outputs": [
    {
     "data": {
      "text/plain": [
       "array([[3.0003052]], dtype=float32)"
      ]
     },
     "execution_count": 23,
     "metadata": {},
     "output_type": "execute_result"
    }
   ],
   "source": [
    "model.predict(np.array([[1,2]]))"
   ]
  },
  {
   "cell_type": "code",
   "execution_count": 24,
   "metadata": {},
   "outputs": [
    {
     "data": {
      "text/plain": [
       "array([[4.0001407]], dtype=float32)"
      ]
     },
     "execution_count": 24,
     "metadata": {},
     "output_type": "execute_result"
    }
   ],
   "source": [
    "model.predict(np.array([[2,2]]))"
   ]
  },
  {
   "cell_type": "code",
   "execution_count": 25,
   "metadata": {},
   "outputs": [
    {
     "data": {
      "text/plain": [
       "array([[-149.99942]], dtype=float32)"
      ]
     },
     "execution_count": 25,
     "metadata": {},
     "output_type": "execute_result"
    }
   ],
   "source": [
    "model.predict(np.array([[100,-250]]))"
   ]
  },
  {
   "cell_type": "code",
   "execution_count": 29,
   "metadata": {},
   "outputs": [
    {
     "data": {
      "text/plain": [
       "array([[7500.0054]], dtype=float32)"
      ]
     },
     "execution_count": 29,
     "metadata": {},
     "output_type": "execute_result"
    }
   ],
   "source": [
    "model.predict(np.array([[10000,-2500]]))"
   ]
  },
  {
   "cell_type": "code",
   "execution_count": null,
   "metadata": {},
   "outputs": [],
   "source": []
  },
  {
   "cell_type": "code",
   "execution_count": null,
   "metadata": {},
   "outputs": [],
   "source": []
  }
 ],
 "metadata": {
  "kernelspec": {
   "display_name": "machine_learning",
   "language": "python",
   "name": "machine_learning"
  },
  "language_info": {
   "codemirror_mode": {
    "name": "ipython",
    "version": 3
   },
   "file_extension": ".py",
   "mimetype": "text/x-python",
   "name": "python",
   "nbconvert_exporter": "python",
   "pygments_lexer": "ipython3",
   "version": "3.7.7"
  }
 },
 "nbformat": 4,
 "nbformat_minor": 2
}
