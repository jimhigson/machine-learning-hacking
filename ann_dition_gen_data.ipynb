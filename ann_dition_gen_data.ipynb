{
 "cells": [
  {
   "cell_type": "code",
   "execution_count": 1,
   "metadata": {},
   "outputs": [],
   "source": [
    "# somewhat similar (but this written mostly before reading that)\n",
    "#https://www.pluralsight.com/guides/deep-learning-model-add"
   ]
  },
  {
   "cell_type": "code",
   "execution_count": 2,
   "metadata": {},
   "outputs": [],
   "source": [
    "!#pip install livelossplot --quiet"
   ]
  },
  {
   "cell_type": "code",
   "execution_count": 3,
   "metadata": {},
   "outputs": [
    {
     "name": "stderr",
     "output_type": "stream",
     "text": [
      "Using TensorFlow backend.\n"
     ]
    }
   ],
   "source": [
    "import tensorflow as tf\n",
    "# tf.logging.set_verbosity(tf.logging.ERROR)\n",
    "from keras.models import Sequential\n",
    "from keras import optimizers\n",
    "from keras.layers import Dense, Activation, Flatten\n",
    "from keras.optimizers import Adam\n",
    "\n",
    "import numpy as np"
   ]
  },
  {
   "cell_type": "code",
   "execution_count": 4,
   "metadata": {},
   "outputs": [],
   "source": [
    "trainingDataSize = 10000\n",
    "epochs = 50"
   ]
  },
  {
   "cell_type": "code",
   "execution_count": 5,
   "metadata": {},
   "outputs": [],
   "source": [
    "X = np.random.normal( loc=0, scale=100, size=[trainingDataSize,2] )\n"
   ]
  },
  {
   "cell_type": "code",
   "execution_count": 6,
   "metadata": {},
   "outputs": [],
   "source": [
    "Y = X.sum(axis=1)\n",
    "Ynoisy = Y + np.random.normal( scale = 3, size=trainingDataSize )"
   ]
  },
  {
   "cell_type": "code",
   "execution_count": 7,
   "metadata": {},
   "outputs": [
    {
     "data": {
      "text/plain": [
       "array([ -12.54432098,  224.16943853,   22.20464617, ..., -159.16486629,\n",
       "       -126.59579297,  -61.4149445 ])"
      ]
     },
     "execution_count": 7,
     "metadata": {},
     "output_type": "execute_result"
    }
   ],
   "source": [
    "Y"
   ]
  },
  {
   "cell_type": "code",
   "execution_count": 8,
   "metadata": {},
   "outputs": [
    {
     "data": {
      "text/plain": [
       "array([ -13.78394293,  223.15532272,   22.53156852, ..., -160.14511995,\n",
       "       -124.37067028,  -64.63278431])"
      ]
     },
     "execution_count": 8,
     "metadata": {},
     "output_type": "execute_result"
    }
   ],
   "source": [
    "Ynoisy"
   ]
  },
  {
   "cell_type": "code",
   "execution_count": 9,
   "metadata": {},
   "outputs": [],
   "source": [
    "model = Sequential([\n",
    "    #Flatten(), # input_shape=(2,)\n",
    "    Dense(units=2, activation='relu'),\n",
    "    Dense(units=20, activation='relu'),\n",
    "\tDense(units=20, activation='relu'),\n",
    "    Dense(units=1)\n",
    "])\n",
    "model.compile(optimizer=Adam(learning_rate=0.001), \n",
    "              loss='mse',\n",
    "              metrics=['mae'])"
   ]
  },
  {
   "cell_type": "code",
   "execution_count": 10,
   "metadata": {},
   "outputs": [
    {
     "data": {
      "image/svg+xml": [
       "<svg height=\"60pt\" viewBox=\"0.00 0.00 482.00 45.00\" width=\"643pt\" xmlns=\"http://www.w3.org/2000/svg\" xmlns:xlink=\"http://www.w3.org/1999/xlink\">\n",
       "<g class=\"graph\" id=\"graph0\" transform=\"scale(1.3333 1.3333) rotate(0) translate(4 41)\">\n",
       "<title>G</title>\n",
       "<polygon fill=\"#ffffff\" points=\"-4,4 -4,-41 478,-41 478,4 -4,4\" stroke=\"transparent\"/>\n",
       "<!-- 140373503416336 -->\n",
       "<g class=\"node\" id=\"node1\">\n",
       "<title>140373503416336</title>\n",
       "<polygon fill=\"none\" points=\"0,-.5 0,-36.5 105,-36.5 105,-.5 0,-.5\" stroke=\"#000000\"/>\n",
       "<text fill=\"#000000\" font-family=\"Times,serif\" font-size=\"14.00\" text-anchor=\"middle\" x=\"52.5\" y=\"-14.8\">dense_1: Dense</text>\n",
       "</g>\n",
       "<!-- 140373503253584 -->\n",
       "<g class=\"node\" id=\"node2\">\n",
       "<title>140373503253584</title>\n",
       "<polygon fill=\"none\" points=\"123,-.5 123,-36.5 228,-36.5 228,-.5 123,-.5\" stroke=\"#000000\"/>\n",
       "<text fill=\"#000000\" font-family=\"Times,serif\" font-size=\"14.00\" text-anchor=\"middle\" x=\"175.5\" y=\"-14.8\">dense_2: Dense</text>\n",
       "</g>\n",
       "<!-- 140373503184464 -->\n",
       "<g class=\"node\" id=\"node3\">\n",
       "<title>140373503184464</title>\n",
       "<polygon fill=\"none\" points=\"246,-.5 246,-36.5 351,-36.5 351,-.5 246,-.5\" stroke=\"#000000\"/>\n",
       "<text fill=\"#000000\" font-family=\"Times,serif\" font-size=\"14.00\" text-anchor=\"middle\" x=\"298.5\" y=\"-14.8\">dense_3: Dense</text>\n",
       "</g>\n",
       "<!-- 140373518115344 -->\n",
       "<g class=\"node\" id=\"node4\">\n",
       "<title>140373518115344</title>\n",
       "<polygon fill=\"none\" points=\"369,-.5 369,-36.5 474,-36.5 474,-.5 369,-.5\" stroke=\"#000000\"/>\n",
       "<text fill=\"#000000\" font-family=\"Times,serif\" font-size=\"14.00\" text-anchor=\"middle\" x=\"421.5\" y=\"-14.8\">dense_4: Dense</text>\n",
       "</g>\n",
       "</g>\n",
       "</svg>"
      ],
      "text/plain": [
       "<IPython.core.display.SVG object>"
      ]
     },
     "execution_count": 10,
     "metadata": {},
     "output_type": "execute_result"
    }
   ],
   "source": [
    "from IPython.display import SVG\n",
    "from keras.utils import model_to_dot\n",
    "\n",
    "SVG(model_to_dot(model).create(prog='dot', format='svg'))"
   ]
  },
  {
   "cell_type": "code",
   "execution_count": null,
   "metadata": {},
   "outputs": [],
   "source": []
  },
  {
   "cell_type": "code",
   "execution_count": 11,
   "metadata": {},
   "outputs": [
    {
     "name": "stdout",
     "output_type": "stream",
     "text": [
      "Epoch 1/50\n",
      "10000/10000 [==============================] - 1s 66us/step - loss: 17074.2658 - mae: 104.3326\n",
      "Epoch 2/50\n",
      "10000/10000 [==============================] - 0s 15us/step - loss: 7600.3006 - mae: 65.8697\n",
      "Epoch 3/50\n",
      "10000/10000 [==============================] - 0s 15us/step - loss: 4239.5741 - mae: 45.0375\n",
      "Epoch 4/50\n",
      "10000/10000 [==============================] - 0s 15us/step - loss: 3564.7773 - mae: 41.1174\n",
      "Epoch 5/50\n",
      "10000/10000 [==============================] - 0s 15us/step - loss: 2929.9042 - mae: 37.1063\n",
      "Epoch 6/50\n",
      "10000/10000 [==============================] - 0s 14us/step - loss: 2286.5121 - mae: 32.4847\n",
      "Epoch 7/50\n",
      "10000/10000 [==============================] - 0s 14us/step - loss: 1618.8913 - mae: 26.9054\n",
      "Epoch 8/50\n",
      "10000/10000 [==============================] - 0s 14us/step - loss: 950.3636 - mae: 20.2383\n",
      "Epoch 9/50\n",
      "10000/10000 [==============================] - 0s 15us/step - loss: 409.1553 - mae: 13.0547\n",
      "Epoch 10/50\n",
      "10000/10000 [==============================] - 0s 15us/step - loss: 121.0634 - mae: 7.2560\n",
      "Epoch 11/50\n",
      "10000/10000 [==============================] - 0s 15us/step - loss: 31.1222 - mae: 4.0780\n",
      "Epoch 12/50\n",
      "10000/10000 [==============================] - 0s 15us/step - loss: 14.6589 - mae: 3.0114\n",
      "Epoch 13/50\n",
      "10000/10000 [==============================] - 0s 15us/step - loss: 12.5933 - mae: 2.8203\n",
      "Epoch 14/50\n",
      "10000/10000 [==============================] - 0s 14us/step - loss: 12.2487 - mae: 2.7884\n",
      "Epoch 15/50\n",
      "10000/10000 [==============================] - 0s 14us/step - loss: 12.0291 - mae: 2.7619\n",
      "Epoch 16/50\n",
      "10000/10000 [==============================] - 0s 14us/step - loss: 11.8171 - mae: 2.7406\n",
      "Epoch 17/50\n",
      "10000/10000 [==============================] - 0s 15us/step - loss: 11.6398 - mae: 2.7205\n",
      "Epoch 18/50\n",
      "10000/10000 [==============================] - 0s 14us/step - loss: 11.4809 - mae: 2.6997\n",
      "Epoch 19/50\n",
      "10000/10000 [==============================] - 0s 14us/step - loss: 11.2819 - mae: 2.6780\n",
      "Epoch 20/50\n",
      "10000/10000 [==============================] - 0s 14us/step - loss: 11.1262 - mae: 2.6600\n",
      "Epoch 21/50\n",
      "10000/10000 [==============================] - 0s 14us/step - loss: 10.9633 - mae: 2.6419\n",
      "Epoch 22/50\n",
      "10000/10000 [==============================] - 0s 14us/step - loss: 10.8040 - mae: 2.6220\n",
      "Epoch 23/50\n",
      "10000/10000 [==============================] - 0s 14us/step - loss: 10.6318 - mae: 2.6016\n",
      "Epoch 24/50\n",
      "10000/10000 [==============================] - 0s 14us/step - loss: 10.5038 - mae: 2.5858\n",
      "Epoch 25/50\n",
      "10000/10000 [==============================] - 0s 14us/step - loss: 10.3693 - mae: 2.5724\n",
      "Epoch 26/50\n",
      "10000/10000 [==============================] - 0s 14us/step - loss: 10.2570 - mae: 2.5554\n",
      "Epoch 27/50\n",
      "10000/10000 [==============================] - 0s 14us/step - loss: 10.1218 - mae: 2.5397\n",
      "Epoch 28/50\n",
      "10000/10000 [==============================] - 0s 15us/step - loss: 9.9962 - mae: 2.5245\n",
      "Epoch 29/50\n",
      "10000/10000 [==============================] - 0s 15us/step - loss: 9.8990 - mae: 2.5123\n",
      "Epoch 30/50\n",
      "10000/10000 [==============================] - 0s 15us/step - loss: 9.7908 - mae: 2.5004\n",
      "Epoch 31/50\n",
      "10000/10000 [==============================] - 0s 15us/step - loss: 9.6756 - mae: 2.4848\n",
      "Epoch 32/50\n",
      "10000/10000 [==============================] - 0s 14us/step - loss: 9.5752 - mae: 2.4729\n",
      "Epoch 33/50\n",
      "10000/10000 [==============================] - 0s 14us/step - loss: 9.5353 - mae: 2.4703\n",
      "Epoch 34/50\n",
      "10000/10000 [==============================] - 0s 14us/step - loss: 9.4766 - mae: 2.4617\n",
      "Epoch 35/50\n",
      "10000/10000 [==============================] - 0s 14us/step - loss: 9.3947 - mae: 2.4522\n",
      "Epoch 36/50\n",
      "10000/10000 [==============================] - 0s 14us/step - loss: 9.3437 - mae: 2.4446\n",
      "Epoch 37/50\n",
      "10000/10000 [==============================] - 0s 14us/step - loss: 9.3377 - mae: 2.4461\n",
      "Epoch 38/50\n",
      "10000/10000 [==============================] - 0s 14us/step - loss: 9.2599 - mae: 2.4357\n",
      "Epoch 39/50\n",
      "10000/10000 [==============================] - 0s 14us/step - loss: 9.2486 - mae: 2.4316\n",
      "Epoch 40/50\n",
      "10000/10000 [==============================] - 0s 14us/step - loss: 9.1995 - mae: 2.4234\n",
      "Epoch 41/50\n",
      "10000/10000 [==============================] - 0s 14us/step - loss: 9.2202 - mae: 2.4284\n",
      "Epoch 42/50\n",
      "10000/10000 [==============================] - 0s 14us/step - loss: 9.2002 - mae: 2.4245\n",
      "Epoch 43/50\n",
      "10000/10000 [==============================] - 0s 15us/step - loss: 9.1516 - mae: 2.4190\n",
      "Epoch 44/50\n",
      "10000/10000 [==============================] - 0s 15us/step - loss: 9.2119 - mae: 2.4243\n",
      "Epoch 45/50\n",
      "10000/10000 [==============================] - 0s 14us/step - loss: 9.1345 - mae: 2.4166\n",
      "Epoch 46/50\n",
      "10000/10000 [==============================] - 0s 14us/step - loss: 9.1518 - mae: 2.4250\n",
      "Epoch 47/50\n",
      "10000/10000 [==============================] - 0s 14us/step - loss: 9.1361 - mae: 2.4167\n",
      "Epoch 48/50\n",
      "10000/10000 [==============================] - 0s 14us/step - loss: 9.1376 - mae: 2.4193\n",
      "Epoch 49/50\n",
      "10000/10000 [==============================] - 0s 14us/step - loss: 9.1389 - mae: 2.4223\n",
      "Epoch 50/50\n",
      "10000/10000 [==============================] - 0s 14us/step - loss: 9.0986 - mae: 2.4093\n"
     ]
    },
    {
     "data": {
      "text/plain": [
       "<keras.callbacks.callbacks.History at 0x7fab41b43f50>"
      ]
     },
     "execution_count": 11,
     "metadata": {},
     "output_type": "execute_result"
    }
   ],
   "source": [
    "model.fit(X, Ynoisy, epochs=epochs, batch_size=100)\n"
   ]
  },
  {
   "cell_type": "code",
   "execution_count": 12,
   "metadata": {},
   "outputs": [
    {
     "data": {
      "text/plain": [
       "array([[203.48413]], dtype=float32)"
      ]
     },
     "execution_count": 12,
     "metadata": {},
     "output_type": "execute_result"
    }
   ],
   "source": [
    "model.predict(np.array([[101,102]]))"
   ]
  },
  {
   "cell_type": "code",
   "execution_count": 13,
   "metadata": {},
   "outputs": [
    {
     "data": {
      "text/plain": [
       "array([[195.47006]], dtype=float32)"
      ]
     },
     "execution_count": 13,
     "metadata": {},
     "output_type": "execute_result"
    }
   ],
   "source": [
    "model.predict(np.array([[95,100]]))"
   ]
  },
  {
   "cell_type": "code",
   "execution_count": 14,
   "metadata": {},
   "outputs": [
    {
     "data": {
      "text/plain": [
       "array([[3.237652]], dtype=float32)"
      ]
     },
     "execution_count": 14,
     "metadata": {},
     "output_type": "execute_result"
    }
   ],
   "source": [
    "model.predict(np.array([[1,2]]))"
   ]
  },
  {
   "cell_type": "code",
   "execution_count": 15,
   "metadata": {},
   "outputs": [
    {
     "data": {
      "text/plain": [
       "array([[4.2369356]], dtype=float32)"
      ]
     },
     "execution_count": 15,
     "metadata": {},
     "output_type": "execute_result"
    }
   ],
   "source": [
    "model.predict(np.array([[2,2]]))"
   ]
  },
  {
   "cell_type": "code",
   "execution_count": 16,
   "metadata": {},
   "outputs": [
    {
     "data": {
      "text/plain": [
       "array([[-150.41685]], dtype=float32)"
      ]
     },
     "execution_count": 16,
     "metadata": {},
     "output_type": "execute_result"
    }
   ],
   "source": [
    "model.predict(np.array([[100,-250]]))"
   ]
  },
  {
   "cell_type": "code",
   "execution_count": 17,
   "metadata": {},
   "outputs": [
    {
     "data": {
      "text/plain": [
       "array([[7488.733]], dtype=float32)"
      ]
     },
     "execution_count": 17,
     "metadata": {},
     "output_type": "execute_result"
    }
   ],
   "source": [
    "model.predict(np.array([[10000,-2500]]))"
   ]
  },
  {
   "cell_type": "code",
   "execution_count": null,
   "metadata": {},
   "outputs": [],
   "source": []
  },
  {
   "cell_type": "code",
   "execution_count": null,
   "metadata": {},
   "outputs": [],
   "source": []
  }
 ],
 "metadata": {
  "jupytext": {
   "formats": "ipynb,md"
  },
  "kernelspec": {
   "display_name": "machine_learning",
   "language": "python",
   "name": "machine_learning"
  },
  "language_info": {
   "codemirror_mode": {
    "name": "ipython",
    "version": 3
   },
   "file_extension": ".py",
   "mimetype": "text/x-python",
   "name": "python",
   "nbconvert_exporter": "python",
   "pygments_lexer": "ipython3",
   "version": "3.7.7"
  }
 },
 "nbformat": 4,
 "nbformat_minor": 2
}
